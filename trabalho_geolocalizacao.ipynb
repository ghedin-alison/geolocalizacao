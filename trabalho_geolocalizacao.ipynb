{
  "nbformat": 4,
  "nbformat_minor": 0,
  "metadata": {
    "colab": {
      "provenance": []
    },
    "kernelspec": {
      "name": "python3",
      "display_name": "Python 3"
    },
    "language_info": {
      "name": "python"
    }
  },
  "cells": [
    {
      "cell_type": "code",
      "execution_count": null,
      "metadata": {
        "id": "Sh99IeiicAlj"
      },
      "outputs": [],
      "source": [
        "!pip install geopandas"
      ]
    },
    {
      "cell_type": "code",
      "source": [
        "!rm -rf geolocalizacao/"
      ],
      "metadata": {
        "id": "Kpxm11TwcMxe"
      },
      "execution_count": null,
      "outputs": []
    },
    {
      "cell_type": "code",
      "source": [
        "!git clone https://github.com/ghedin-alison/geolocalizacao"
      ],
      "metadata": {
        "id": "ApPeIujvcTnc"
      },
      "execution_count": null,
      "outputs": []
    },
    {
      "cell_type": "code",
      "source": [
        "%cd geolocalizacao"
      ],
      "metadata": {
        "id": "snAvGoeQceJD"
      },
      "execution_count": null,
      "outputs": []
    }
  ]
}